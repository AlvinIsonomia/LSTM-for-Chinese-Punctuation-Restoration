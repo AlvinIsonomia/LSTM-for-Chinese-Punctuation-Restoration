{
 "cells": [
  {
   "cell_type": "code",
   "execution_count": 3,
   "metadata": {},
   "outputs": [
    {
     "name": "stdout",
     "output_type": "stream",
     "text": [
      "processing data......\n"
     ]
    }
   ],
   "source": [
    "import re\n",
    "import zhon\n",
    "from tqdm import tqdm_notebook as tqdm\n",
    "import re\n",
    "\n",
    "print(\"processing data......\")\n",
    "\n",
    "with open('/home/data/liuchang/data/ZhWikiSimplified.txt') as  f1:#打开文件\n",
    "    f11 = f1.readlines()#将打开文件的内容读到内存中，with 在执行完命令后，会关闭文件\n",
    "    \n"
   ]
  },
  {
   "cell_type": "code",
   "execution_count": 4,
   "metadata": {},
   "outputs": [
    {
     "data": {
      "application/vnd.jupyter.widget-view+json": {
       "model_id": "8b91c41463ef4d52a8db8ad4b1486661",
       "version_major": 2,
       "version_minor": 0
      },
      "text/plain": [
       "HBox(children=(IntProgress(value=0, max=14582932), HTML(value='')))"
      ]
     },
     "metadata": {},
     "output_type": "display_data"
    },
    {
     "name": "stdout",
     "output_type": "stream",
     "text": [
      "\n",
      "筛选了一百五十万段比较可以的～\n"
     ]
    }
   ],
   "source": [
    "f2 = open('/home/data/liuchang/data/cleanwiki.txt','wb')#打开一个文件，用于写入，后面的'wb'表示每次写入前格式化文本，如果此文件不存在，则创建一个此文件名的文件\n",
    "r1 = '[a-zA-Z0-9’\"#$%&\\'()*+-/:：<=>@★…【】_-—℃％¥℉°（）·「」『』 《》 “”‘’[\\\\]^_`{|}~]+'\n",
    "def no_date(s):\n",
    "    for char in s:\n",
    "        if (char=='年'):\n",
    "            return False\n",
    "        if(char=='月'):\n",
    "            return False\n",
    "        if(char=='日'):\n",
    "            return False\n",
    "    return True\n",
    "for para in tqdm(f11):\n",
    "    cleanpara = re.sub(r1,'',para)\n",
    "    if(len(cleanpara)>20):\n",
    "        if(no_date(cleanpara)):\n",
    "            f2.write(cleanpara.encode('utf-8'))\n",
    "print('筛选了一百五十万段比较可以的～')"
   ]
  },
  {
   "cell_type": "code",
   "execution_count": 5,
   "metadata": {},
   "outputs": [
    {
     "name": "stdout",
     "output_type": "stream",
     "text": [
      "更进一步则需要写作或其他可记录数字的系统，如符木或于印加帝国内用来储存数据的奇普。历史上曾有过许多不同的记数系统。\n",
      "\n"
     ]
    },
    {
     "data": {
      "application/vnd.jupyter.widget-view+json": {
       "model_id": "48963ab3e0314acf972a49442e2ff642",
       "version_major": 2,
       "version_minor": 0
      },
      "text/plain": [
       "HBox(children=(IntProgress(value=0, max=1502537), HTML(value='')))"
      ]
     },
     "metadata": {},
     "output_type": "display_data"
    },
    {
     "name": "stdout",
     "output_type": "stream",
     "text": [
      "\n"
     ]
    }
   ],
   "source": [
    "import jieba\n",
    "import re\n",
    "import zhon\n",
    "from tqdm import tqdm_notebook as tqdm\n",
    "import re\n",
    "with open('/home/data/liuchang/data/cleanwiki.txt') as  f3:#打开文件\n",
    "    f33 = f3.readlines()#将打开文件的内容读到内存中，with 在执行完命令后，会关闭文件\n",
    "f4 = open('/home/data/liuchang/data/cleanwikiseg.txt','wb')\n",
    "print(f33[3])\n",
    "for para in tqdm(f33):\n",
    "    f4.write(' '.join(jieba.cut(para,cut_all=False)).encode('utf-8'))\n"
   ]
  },
  {
   "cell_type": "code",
   "execution_count": 23,
   "metadata": {},
   "outputs": [
    {
     "data": {
      "application/vnd.jupyter.widget-view+json": {
       "model_id": "560d7ee8971146609ee8a6fbcb916285",
       "version_major": 2,
       "version_minor": 0
      },
      "text/plain": [
       "HBox(children=(IntProgress(value=0, max=1502544), HTML(value='')))"
      ]
     },
     "metadata": {},
     "output_type": "display_data"
    }
   ],
   "source": [
    "import jieba\n",
    "import re\n",
    "import zhon\n",
    "from tqdm import tqdm_notebook as tqdm\n",
    "import re\n",
    "zh_pattern = re.compile(u'[\\u4e00-\\u9fa5]+')\n",
    "\n",
    "with open('/home/data/liuchang/data/cleanwikiseg.txt') as  f3:#打开文件\n",
    "    f33 = f3.readlines()#将打开文件的内容读到内存中，with 在执行完命令后，会关闭文件\n",
    "fx = open('/home/data/liuchang/data/xwikiseg.txt','wb')\n",
    "fy = open('/home/data/liuchang/data/ywikiseg.txt','wb')\n",
    "def contain_zh(word):\n",
    "    '''\n",
    "    判断传入字符串是否包含中文\n",
    "    :param word: 待判断字符串\n",
    "    :return: True:包含中文  False:不包含中文\n",
    "    '''\n",
    "    global zh_pattern\n",
    "    match = zh_pattern.search(word)\n",
    "\n",
    "    return match\n",
    "for para in tqdm(f33):\n",
    "    raw = para.split()\n",
    "    xseq = []\n",
    "    yseq = []\n",
    "    try:\n",
    "        for word in raw:\n",
    "            if contain_zh(word):\n",
    "                xseq.append(word)\n",
    "                yseq.append('X')\n",
    "            else:\n",
    "                yseq[-1] = word\n",
    "    #     print(xseq,len(xseq))\n",
    "    #     print(yseq,len(yseq))\n",
    "        for i in range(0,len(yseq)):\n",
    "            chara = yseq[i]\n",
    "            if (chara == 'X' or chara == '，' or chara == '。'or chara == '？' or chara == '！' or chara == '、'):\n",
    "                continue\n",
    "            elif(chara == ','):\n",
    "                yseq[i] = '，'\n",
    "                continue\n",
    "            elif(chara == '.'):\n",
    "                yseq[i] = '。'\n",
    "                continue\n",
    "            elif(chara == '?'):\n",
    "                yseq[i] = '？'\n",
    "                continue\n",
    "            elif(chara == '!'):\n",
    "                yseq[i] = '！'\n",
    "                continue\n",
    "            else:\n",
    "                yseq[i] = 'X'\n",
    "        x = ' '.join(xseq)\n",
    "        y = ' '.join(yseq)\n",
    "    #     print(x,y)\n",
    "        fx.write(x.encode('utf-8'))\n",
    "        fx.write('\\n'.encode('utf-8'))        \n",
    "        fy.write(y.encode('utf-8'))\n",
    "        fy.write('\\n'.encode('utf-8'))\n",
    "    except:\n",
    "        continue"
   ]
  },
  {
   "cell_type": "code",
   "execution_count": 25,
   "metadata": {},
   "outputs": [
    {
     "name": "stdout",
     "output_type": "stream",
     "text": [
      "{'X': 50705875, '、': 1450178, '，': 4963743, '。': 3012282, '？': 9461, '！': 9550}\n"
     ]
    },
    {
     "data": {
      "application/vnd.jupyter.widget-view+json": {
       "model_id": "a782976927024aac89d0b207d7886d56",
       "version_major": 2,
       "version_minor": 0
      },
      "text/plain": [
       "HBox(children=(IntProgress(value=0, max=1485691), HTML(value='')))"
      ]
     },
     "metadata": {},
     "output_type": "display_data"
    },
    {
     "name": "stdout",
     "output_type": "stream",
     "text": [
      "13254\n"
     ]
    }
   ],
   "source": [
    "with open('/home/data/liuchang/data/ywikiseg.txt') as  fy:#打开文件\n",
    "    fyy = fy.readlines()#将打开文件的内容读到内存中，with 在执行完命令后，会关闭文件\n",
    "# pundict = { }\n",
    "# for para in tqdm(fyy):\n",
    "#     punlist = para.split()\n",
    "#     for chara in punlist:\n",
    "#         try:\n",
    "#             pundict[chara] += 1\n",
    "#         except:\n",
    "#             pundict[chara] = 1\n",
    "print(pundict)\n",
    "goodindex = []\n",
    "for i in tqdm(range(0,len(fyy))):\n",
    "    punlist = fyy[i].split()\n",
    "    flag = 0\n",
    "    for pun in punlist:\n",
    "        if(pun == '？' or pun == '！'):\n",
    "            flag += 1\n",
    "    if(flag > 0):\n",
    "        goodindex.append(i)\n",
    "print(len(goodindex))"
   ]
  },
  {
   "cell_type": "code",
   "execution_count": 40,
   "metadata": {},
   "outputs": [
    {
     "data": {
      "application/vnd.jupyter.widget-view+json": {
       "model_id": "37157ee117fb411daa7168c39a53250b",
       "version_major": 2,
       "version_minor": 0
      },
      "text/plain": [
       "HBox(children=(IntProgress(value=0, max=13254), HTML(value='')))"
      ]
     },
     "metadata": {},
     "output_type": "display_data"
    },
    {
     "name": "stdout",
     "output_type": "stream",
     "text": [
      "951567\n",
      "951567\n"
     ]
    }
   ],
   "source": [
    "with open('/home/data/liuchang/data/xwikiseg.txt') as  fx:#打开文件\n",
    "    fxx = fx.readlines()#将打开文件的内容读到内存中，with 在执行完命令后，会关闭文件\n",
    "error = 0\n",
    "bigx = []\n",
    "bigy = []\n",
    "for i in tqdm(range(0,len(goodindex))):\n",
    "    index = goodindex[i]\n",
    "    bigx += fxx[index].split()\n",
    "    bigy += fyy[index].split()\n",
    "#     print(fxx[index])\n",
    "#     print(fyy[index])\n",
    "print(len(bigx))\n",
    "print(len(bigy))\n",
    "\n",
    "\n",
    "\n",
    "\n",
    "# balpundict = {}\n",
    "# for index in goodindex:\n",
    "#     for chara in fyy[index].split():\n",
    "#          try:\n",
    "#             balpundict[chara] += 1\n",
    "#          except:\n",
    "#             balpundict[chara] = 1"
   ]
  },
  {
   "cell_type": "code",
   "execution_count": 54,
   "metadata": {},
   "outputs": [
    {
     "data": {
      "application/vnd.jupyter.widget-view+json": {
       "model_id": "24899ffbe10f44bf96cd9faf0ca37aaa",
       "version_major": 2,
       "version_minor": 0
      },
      "text/plain": [
       "HBox(children=(IntProgress(value=0, max=10000), HTML(value='')))"
      ]
     },
     "metadata": {},
     "output_type": "display_data"
    }
   ],
   "source": [
    "finx = open('/home/data/liuchang/data/modifiedwiki.txt','wb')\n",
    "finy = open('/home/data/liuchang/data/modifiedpunc.txt','wb')\n",
    "for i in tqdm(range(0,10000)):\n",
    "    finx.write(' '.join(bigx[i*95:i*95+95]).encode('utf-8'))\n",
    "    finx.write('\\n'.encode('utf-8'))\n",
    "    finy.write(' '.join(bigy[i*95:i*95+95]).encode('utf-8'))\n",
    "    finy.write('\\n'.encode('utf-8'))"
   ]
  },
  {
   "cell_type": "code",
   "execution_count": 37,
   "metadata": {},
   "outputs": [
    {
     "data": {
      "text/plain": [
       "0.009942547398133815"
      ]
     },
     "execution_count": 37,
     "metadata": {},
     "output_type": "execute_result"
    }
   ],
   "source": [
    "9461/(796896+88667+9461+37301+9692+9550)"
   ]
  },
  {
   "cell_type": "code",
   "execution_count": 55,
   "metadata": {},
   "outputs": [
    {
     "data": {
      "text/plain": [
       "368"
      ]
     },
     "execution_count": 55,
     "metadata": {},
     "output_type": "execute_result"
    }
   ],
   "source": [
    "'''\n",
    "import gc\n",
    "del fxx\n",
    "gc.collect()\n",
    "'''\n",
    "print('这段是用来释放内存的')"
   ]
  },
  {
   "cell_type": "code",
   "execution_count": 1,
   "metadata": {
    "scrolled": true
   },
   "outputs": [
    {
     "name": "stdout",
     "output_type": "stream",
     "text": [
      "数据的最后一次预处理，之后运行可跳过这段\n",
      "loading raw data……\n",
      "raw data loading complete~\n",
      "按照 的 说法 计算机科学 的 最 根本 问题 是 什么 能够 被 有效 地 自动化 计算 理论 的 研究 就是 专注 于 回答 这个 根本 问题 关于 什么 能够 被 计算 去 实施 这些 计算 又 需要 用到 多少 资源 为了 试图 回答 第一个 问题 递归论 检验 在 多种 理论 计算 模型 中 哪个 计算 问题 是 可解 的 而 计算 复杂性 理论 则 被 用于 回答 第二个 问题 研究 解决 一个 不同 目的 的 计算 问题 的 时间 与 空间 消耗 这个 计算机科学 分支 旨在 创造 可以 解决 计算 问题 以及 像 动物 和\n",
      "\n",
      "X X ， X X X X X X X X X X X ？ X X X X X X X X X X ， X X X X ， X X X X X X X X 。 X X X X ， X X X X X X X X X X X X X 。 X X X X X X X X X ， X X X X X X X X X X X X 。 X X X X X X X X ， X X X X\n",
      "\n"
     ]
    },
    {
     "data": {
      "application/vnd.jupyter.widget-view+json": {
       "model_id": "9c22843611114f7089afb7e546ec3b92",
       "version_major": 2,
       "version_minor": 0
      },
      "text/plain": [
       "HBox(children=(IntProgress(value=0, max=10000), HTML(value='')))"
      ]
     },
     "metadata": {},
     "output_type": "display_data"
    },
    {
     "name": "stdout",
     "output_type": "stream",
     "text": [
      "\n",
      "10000\n"
     ]
    },
    {
     "data": {
      "application/vnd.jupyter.widget-view+json": {
       "model_id": "a1f3b22d8d944a609c9f5546299f146d",
       "version_major": 2,
       "version_minor": 0
      },
      "text/plain": [
       "HBox(children=(IntProgress(value=0, max=10000), HTML(value='')))"
      ]
     },
     "metadata": {},
     "output_type": "display_data"
    },
    {
     "name": "stderr",
     "output_type": "stream",
     "text": [
      "/home/data/liuchang/anaconda3/lib/python3.7/site-packages/ipykernel_launcher.py:44: DeprecationWarning: Call to deprecated `__getitem__` (Method will be removed in 4.0.0, use self.wv.__getitem__() instead).\n"
     ]
    },
    {
     "name": "stdout",
     "output_type": "stream",
     "text": [
      "\n"
     ]
    }
   ],
   "source": [
    "print('数据的最后一次预处理，之后运行可跳过这段')\n",
    "import re\n",
    "import numpy as np\n",
    "import pandas as pd\n",
    "from tqdm import tqdm_notebook as tqdm\n",
    "import time\n",
    "import os \n",
    "import warnings\n",
    "warnings.filterwarnings(action='ignore', category=UserWarning, module='gensim')# 忽略警告\n",
    "import logging\n",
    "import os.path\n",
    "import sys\n",
    "import multiprocessing\n",
    "import gensim    \n",
    "import torch\n",
    "from torch.utils.data import *\n",
    "\n",
    "print('loading raw data……')\n",
    "with open('/home/data/liuchang/data/modifiedwiki.txt') as f1:\n",
    "    f11 = f1.readlines()\n",
    "with open('/home/data/liuchang/data/modifiedpunc.txt') as f2:\n",
    "    f22 = f2.readlines()\n",
    "print('raw data loading complete~')\n",
    "print(f11[0])\n",
    "print(f22[0])\n",
    "ydict = {'X':[1,0,0,0,0,0],'，':[0,1,0,0,0,0],'。':[0,0,1,0,0,0],'！':[0,0,0,1,0,0],'？':[0,0,0,0,1,0],'、':[0,0,0,0,0,1]}\n",
    "ylist = []\n",
    "for i in tqdm(range(0,len(f22))):\n",
    "    ypara = []\n",
    "    for punc in f22[i].split():\n",
    "        ypara.append(ydict[punc])\n",
    "    ylist.append(ypara)\n",
    "np.save('/home/data/liuchang/data/wikipunc.npy',np.array(ylist))\n",
    "ylist = np.load('/home/data/liuchang/data/wikipunc.npy') \n",
    "print(len(ylist))\n",
    "\n",
    "zerovec = np.zeros(200)\n",
    "model = gensim.models.Word2Vec.load('/home/data/liuchang/data/Tinywikizh.model')\n",
    "xlist = []\n",
    "for i in tqdm(range(0,len(f11))):\n",
    "    xpara = []\n",
    "    for word in f11[i].split():\n",
    "        try:\n",
    "            xpara.append(model[word])\n",
    "        except:\n",
    "            xpara.append(zerovec)\n",
    "    xlist.append(xpara)\n",
    "np.save('/home/data/liuchang/data/wikiw2v.npy',np.array(xlist))"
   ]
  },
  {
   "cell_type": "code",
   "execution_count": 4,
   "metadata": {},
   "outputs": [
    {
     "name": "stdout",
     "output_type": "stream",
     "text": [
      "10000\n"
     ]
    }
   ],
   "source": [
    "print(len(xlist))\n",
    "for x in xlist:\n",
    "    if(len(x)!=95):\n",
    "        print(error)"
   ]
  },
  {
   "cell_type": "code",
   "execution_count": null,
   "metadata": {},
   "outputs": [],
   "source": []
  }
 ],
 "metadata": {
  "kernelspec": {
   "display_name": "Python 3",
   "language": "python",
   "name": "python3"
  },
  "language_info": {
   "codemirror_mode": {
    "name": "ipython",
    "version": 3
   },
   "file_extension": ".py",
   "mimetype": "text/x-python",
   "name": "python",
   "nbconvert_exporter": "python",
   "pygments_lexer": "ipython3",
   "version": "3.7.1"
  }
 },
 "nbformat": 4,
 "nbformat_minor": 2
}
