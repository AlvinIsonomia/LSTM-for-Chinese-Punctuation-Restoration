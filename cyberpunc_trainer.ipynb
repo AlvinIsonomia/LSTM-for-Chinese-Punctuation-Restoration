{
 "cells": [
  {
   "cell_type": "code",
   "execution_count": 1,
   "metadata": {},
   "outputs": [
    {
     "name": "stdout",
     "output_type": "stream",
     "text": [
      "dataset loading...\n"
     ]
    }
   ],
   "source": [
    "import re\n",
    "import numpy as np\n",
    "import pandas as pd\n",
    "from tqdm import tqdm_notebook as tqdm\n",
    "import time\n",
    "import os \n",
    "import warnings\n",
    "warnings.filterwarnings(action='ignore', category=UserWarning, module='gensim')# 忽略警告\n",
    "import logging\n",
    "import os.path\n",
    "import sys\n",
    "import multiprocessing\n",
    "import gensim    \n",
    "import torch\n",
    "from torch.utils.data import *\n",
    "import gc\n",
    "# xlist = np.load('/home/data/liuchang/data/wikiw2v.npy') \n",
    "# ylist = np.load('/home/data/liuchang/data/wikipunc.npy') \n",
    "# del xlist\n",
    "# del ylist\n",
    "# gc.collect()\n",
    "\n",
    "# dataloader\n",
    "batch_size = 1\n",
    "class wikiset(Dataset):\n",
    "    def __init__(self):\n",
    "        print('dataset loading...')\n",
    "        self.xlist = np.load('/home/data/liuchang/data/wikiw2v.npy') \n",
    "        self.ylist = np.load('/home/data/liuchang/data/wikipunc.npy') \n",
    "        \n",
    "    def __len__(self):\n",
    "        return len(self.ylist)\n",
    "    def __getitem__(self,idx):\n",
    "        return torch.FloatTensor(self.xlist[idx]),torch.FloatTensor(self.ylist[idx])\n",
    "\n",
    "teset = wikiset()        \n",
    "seqloader = DataLoader(teset,batch_size=1,shuffle = False ,num_workers = 16)            "
   ]
  },
  {
   "cell_type": "code",
   "execution_count": 2,
   "metadata": {},
   "outputs": [],
   "source": [
    "import torch\n",
    "import torch.nn as nn\n",
    "import torch.nn.functional as F\n",
    "import torch.optim as optim\n",
    "import torch.autograd\n",
    "class TLSTM(nn.Module):\n",
    "    def __init__(self,input_dim,hidden_dim,output_dim):\n",
    "        super(TLSTM,self).__init__()\n",
    "        self.input_dim = input_dim\n",
    "        self.hidden_dim = hidden_dim\n",
    "        self.output_dim = output_dim\n",
    "        \n",
    "        self.lstm = nn.LSTM(input_dim,hidden_dim)\n",
    "        self.fc = nn.Linear(hidden_dim,output_dim)\n",
    "        self.hidden = self.init_hidden()\n",
    "        \n",
    "    def init_hidden(self):\n",
    "        return torch.zeros(1,1,self.hidden_dim),torch.zeros(1,1,self.hidden_dim)\n",
    "\n",
    "    def forward(self,inputs):\n",
    "        lstm_out, self.hidden = self.lstm(inputs.view(len(inputs),1,-1),self.hidden)\n",
    "        tag_space = self.fc(lstm_out.view(len(inputs),-1))\n",
    "        tag_scores = F.softmax(tag_space,dim = 1)\n",
    "        return tag_scores\n"
   ]
  },
  {
   "cell_type": "code",
   "execution_count": 3,
   "metadata": {},
   "outputs": [
    {
     "data": {
      "text/plain": [
       "TLSTM(\n",
       "  (lstm): LSTM(200, 80)\n",
       "  (fc): Linear(in_features=80, out_features=6, bias=True)\n",
       ")"
      ]
     },
     "execution_count": 3,
     "metadata": {},
     "output_type": "execute_result"
    }
   ],
   "source": [
    "lstm = TLSTM(200,80,6)\n",
    "device = torch.device(\"cuda:0\" if torch.cuda.is_available() else \"cpu\")\n",
    "loss_function = nn.MSELoss()\n",
    "optimizer = optim.SGD(lstm.parameters(),lr=1)\n",
    "# lstm = nn.DataParallel(lstm)\n",
    "lstm.to(device)\n",
    "\n",
    "   "
   ]
  },
  {
   "cell_type": "code",
   "execution_count": 5,
   "metadata": {},
   "outputs": [
    {
     "data": {
      "application/vnd.jupyter.widget-view+json": {
       "model_id": "4d273b5c68484d2da80eeca358563af7",
       "version_major": 2,
       "version_minor": 0
      },
      "text/plain": [
       "HBox(children=(IntProgress(value=0, max=50), HTML(value='')))"
      ]
     },
     "metadata": {},
     "output_type": "display_data"
    },
    {
     "name": "stdout",
     "output_type": "stream",
     "text": [
      "batch 0 training……\n"
     ]
    },
    {
     "data": {
      "application/vnd.jupyter.widget-view+json": {
       "model_id": "a4985f7c8b42446bb89d18a3da7e2bac",
       "version_major": 2,
       "version_minor": 0
      },
      "text/plain": [
       "HBox(children=(IntProgress(value=0, max=40), HTML(value='')))"
      ]
     },
     "metadata": {},
     "output_type": "display_data"
    },
    {
     "name": "stdout",
     "output_type": "stream",
     "text": [
      "tensor(0.0234)\n",
      "tensor(0.0180)\n",
      "0 epoch 0 total loss in this epoch: tensor(5.0802)\n",
      "tensor(0.0178)\n",
      "tensor(0.0182)\n"
     ]
    },
    {
     "ename": "KeyboardInterrupt",
     "evalue": "",
     "output_type": "error",
     "traceback": [
      "\u001b[0;31m---------------------------------------------------------------------------\u001b[0m",
      "\u001b[0;31mKeyboardInterrupt\u001b[0m                         Traceback (most recent call last)",
      "\u001b[0;32m<ipython-input-5-dab743dd76b6>\u001b[0m in \u001b[0;36m<module>\u001b[0;34m\u001b[0m\n\u001b[1;32m     13\u001b[0m             \u001b[0mtag_scores\u001b[0m \u001b[0;34m=\u001b[0m \u001b[0mlstm\u001b[0m\u001b[0;34m(\u001b[0m\u001b[0mx\u001b[0m\u001b[0;34m)\u001b[0m \u001b[0;31m# 前向计算\u001b[0m\u001b[0;34m\u001b[0m\u001b[0;34m\u001b[0m\u001b[0m\n\u001b[1;32m     14\u001b[0m             \u001b[0mloss\u001b[0m \u001b[0;34m=\u001b[0m \u001b[0mloss_function\u001b[0m\u001b[0;34m(\u001b[0m\u001b[0mtag_scores\u001b[0m\u001b[0;34m,\u001b[0m\u001b[0my\u001b[0m\u001b[0;34m.\u001b[0m\u001b[0mfloat\u001b[0m\u001b[0;34m(\u001b[0m\u001b[0;34m)\u001b[0m\u001b[0;34m)\u001b[0m \u001b[0;31m# 计算损失函数\u001b[0m\u001b[0;34m\u001b[0m\u001b[0;34m\u001b[0m\u001b[0m\n\u001b[0;32m---> 15\u001b[0;31m             \u001b[0mloss\u001b[0m\u001b[0;34m.\u001b[0m\u001b[0mbackward\u001b[0m\u001b[0;34m(\u001b[0m\u001b[0;34m)\u001b[0m\u001b[0;34m\u001b[0m\u001b[0;34m\u001b[0m\u001b[0m\n\u001b[0m\u001b[1;32m     16\u001b[0m             \u001b[0moptimizer\u001b[0m\u001b[0;34m.\u001b[0m\u001b[0mstep\u001b[0m\u001b[0;34m(\u001b[0m\u001b[0;34m)\u001b[0m\u001b[0;34m\u001b[0m\u001b[0;34m\u001b[0m\u001b[0m\n\u001b[1;32m     17\u001b[0m             \u001b[0;32mif\u001b[0m\u001b[0;34m(\u001b[0m\u001b[0mi\u001b[0m\u001b[0;34m%\u001b[0m\u001b[0;36m100\u001b[0m \u001b[0;34m==\u001b[0m \u001b[0;36m0\u001b[0m\u001b[0;34m)\u001b[0m\u001b[0;34m:\u001b[0m\u001b[0;34m\u001b[0m\u001b[0;34m\u001b[0m\u001b[0m\n",
      "\u001b[0;32m/home/data/liuchang/anaconda3/envs/py3/lib/python3.7/site-packages/torch/tensor.py\u001b[0m in \u001b[0;36mbackward\u001b[0;34m(self, gradient, retain_graph, create_graph)\u001b[0m\n\u001b[1;32m    100\u001b[0m                 \u001b[0mproducts\u001b[0m\u001b[0;34m.\u001b[0m \u001b[0mDefaults\u001b[0m \u001b[0mto\u001b[0m\u001b[0;31m \u001b[0m\u001b[0;31m`\u001b[0m\u001b[0;31m`\u001b[0m\u001b[0;32mFalse\u001b[0m\u001b[0;31m`\u001b[0m\u001b[0;31m`\u001b[0m\u001b[0;34m.\u001b[0m\u001b[0;34m\u001b[0m\u001b[0;34m\u001b[0m\u001b[0m\n\u001b[1;32m    101\u001b[0m         \"\"\"\n\u001b[0;32m--> 102\u001b[0;31m         \u001b[0mtorch\u001b[0m\u001b[0;34m.\u001b[0m\u001b[0mautograd\u001b[0m\u001b[0;34m.\u001b[0m\u001b[0mbackward\u001b[0m\u001b[0;34m(\u001b[0m\u001b[0mself\u001b[0m\u001b[0;34m,\u001b[0m \u001b[0mgradient\u001b[0m\u001b[0;34m,\u001b[0m \u001b[0mretain_graph\u001b[0m\u001b[0;34m,\u001b[0m \u001b[0mcreate_graph\u001b[0m\u001b[0;34m)\u001b[0m\u001b[0;34m\u001b[0m\u001b[0;34m\u001b[0m\u001b[0m\n\u001b[0m\u001b[1;32m    103\u001b[0m \u001b[0;34m\u001b[0m\u001b[0m\n\u001b[1;32m    104\u001b[0m     \u001b[0;32mdef\u001b[0m \u001b[0mregister_hook\u001b[0m\u001b[0;34m(\u001b[0m\u001b[0mself\u001b[0m\u001b[0;34m,\u001b[0m \u001b[0mhook\u001b[0m\u001b[0;34m)\u001b[0m\u001b[0;34m:\u001b[0m\u001b[0;34m\u001b[0m\u001b[0;34m\u001b[0m\u001b[0m\n",
      "\u001b[0;32m/home/data/liuchang/anaconda3/envs/py3/lib/python3.7/site-packages/torch/autograd/__init__.py\u001b[0m in \u001b[0;36mbackward\u001b[0;34m(tensors, grad_tensors, retain_graph, create_graph, grad_variables)\u001b[0m\n\u001b[1;32m     88\u001b[0m     Variable._execution_engine.run_backward(\n\u001b[1;32m     89\u001b[0m         \u001b[0mtensors\u001b[0m\u001b[0;34m,\u001b[0m \u001b[0mgrad_tensors\u001b[0m\u001b[0;34m,\u001b[0m \u001b[0mretain_graph\u001b[0m\u001b[0;34m,\u001b[0m \u001b[0mcreate_graph\u001b[0m\u001b[0;34m,\u001b[0m\u001b[0;34m\u001b[0m\u001b[0;34m\u001b[0m\u001b[0m\n\u001b[0;32m---> 90\u001b[0;31m         allow_unreachable=True)  # allow_unreachable flag\n\u001b[0m\u001b[1;32m     91\u001b[0m \u001b[0;34m\u001b[0m\u001b[0m\n\u001b[1;32m     92\u001b[0m \u001b[0;34m\u001b[0m\u001b[0m\n",
      "\u001b[0;31mKeyboardInterrupt\u001b[0m: "
     ]
    }
   ],
   "source": [
    "# idata = iter(seqloader)\n",
    "totalloss = []\n",
    "epochlist = [40]*5 + [30]*15 + [20]*20 +[10]*10\n",
    "for batch in tqdm(range(0,50)):\n",
    "    print('batch',batch,'training……')\n",
    "    for epoch in tqdm(range(epochlist[batch])):\n",
    "        sumloss = 0\n",
    "    #     for i in tqdm(range(0,100)):\n",
    "        for i in range(200*batch,200*(batch+1)):        \n",
    "            x, y = teset[i]\n",
    "            lstm.zero_grad() # 清空梯度\n",
    "            lstm.hidden = lstm.init_hidden() # 清空隐层状态\n",
    "            tag_scores = lstm(x) # 前向计算\n",
    "            loss = loss_function(tag_scores,y.float()) # 计算损失函数\n",
    "            loss.backward()\n",
    "            optimizer.step()\n",
    "            if(i%100 == 0):\n",
    "                print(loss.data)\n",
    "            if(i%150 == 0):\n",
    "                torch.save(lstm.state_dict(), 'tlstm.pkl')\n",
    "            sumloss += loss.data\n",
    "        totalloss.append(sumloss)\n",
    "        print(batch,'epoch',epoch,'total loss in this epoch:',sumloss)    "
   ]
  },
  {
   "cell_type": "code",
   "execution_count": 24,
   "metadata": {},
   "outputs": [
    {
     "name": "stdout",
     "output_type": "stream",
     "text": [
      "dataset loading...\n",
      "batch 0 epoch 0 total loss in this epoch: tensor(0.0340)\n",
      "batch 1 epoch 0 total loss in this epoch: tensor(0.0651)\n",
      "batch 2 epoch 0 total loss in this epoch: tensor(0.0549)\n",
      "batch 3 epoch 0 total loss in this epoch: tensor(0.0463)\n",
      "batch 4 epoch 0 total loss in this epoch: tensor(0.0455)\n",
      "batch 5 epoch 0 total loss in this epoch: tensor(0.0390)\n",
      "batch 6 epoch 0 total loss in this epoch: tensor(0.0546)\n",
      "batch 7 epoch 0 total loss in this epoch: tensor(0.0385)\n",
      "batch 8 epoch 0 total loss in this epoch: tensor(0.0679)\n",
      "batch 9 epoch 0 total loss in this epoch: tensor(0.0451)\n",
      "batch 10 epoch 0 total loss in this epoch: tensor(0.0286)\n",
      "batch 11 epoch 0 total loss in this epoch: tensor(0.0463)\n",
      "batch 12 epoch 0 total loss in this epoch: tensor(0.0354)\n",
      "batch 13 epoch 0 total loss in this epoch: tensor(0.0655)\n",
      "batch 14 epoch 0 total loss in this epoch: tensor(0.0781)\n",
      "batch 15 epoch 0 total loss in this epoch: tensor(0.0354)\n",
      "batch 16 epoch 0 total loss in this epoch: tensor(0.0503)\n",
      "batch 17 epoch 0 total loss in this epoch: tensor(0.0267)\n",
      "batch 18 epoch 0 total loss in this epoch: tensor(0.0470)\n",
      "batch 19 epoch 0 total loss in this epoch: tensor(0.0538)\n"
     ]
    },
    {
     "ename": "KeyboardInterrupt",
     "evalue": "",
     "output_type": "error",
     "traceback": [
      "\u001b[0;31m---------------------------------------------------------------------------\u001b[0m",
      "\u001b[0;31mKeyboardInterrupt\u001b[0m                         Traceback (most recent call last)",
      "\u001b[0;32m<ipython-input-24-a74c4f2571b7>\u001b[0m in \u001b[0;36m<module>\u001b[0;34m\u001b[0m\n\u001b[1;32m     80\u001b[0m             \u001b[0mtag_scores\u001b[0m \u001b[0;34m=\u001b[0m \u001b[0mlstm\u001b[0m\u001b[0;34m(\u001b[0m\u001b[0mx\u001b[0m\u001b[0;34m)\u001b[0m \u001b[0;31m# 前向计算\u001b[0m\u001b[0;34m\u001b[0m\u001b[0;34m\u001b[0m\u001b[0m\n\u001b[1;32m     81\u001b[0m             \u001b[0mloss\u001b[0m \u001b[0;34m=\u001b[0m \u001b[0mloss_function\u001b[0m\u001b[0;34m(\u001b[0m\u001b[0mtag_scores\u001b[0m\u001b[0;34m,\u001b[0m\u001b[0my\u001b[0m\u001b[0;34m.\u001b[0m\u001b[0mfloat\u001b[0m\u001b[0;34m(\u001b[0m\u001b[0;34m)\u001b[0m\u001b[0;34m)\u001b[0m \u001b[0;31m# 计算损失函数\u001b[0m\u001b[0;34m\u001b[0m\u001b[0;34m\u001b[0m\u001b[0m\n\u001b[0;32m---> 82\u001b[0;31m             \u001b[0mloss\u001b[0m\u001b[0;34m.\u001b[0m\u001b[0mbackward\u001b[0m\u001b[0;34m(\u001b[0m\u001b[0;34m)\u001b[0m\u001b[0;34m\u001b[0m\u001b[0;34m\u001b[0m\u001b[0m\n\u001b[0m\u001b[1;32m     83\u001b[0m             \u001b[0moptimizer\u001b[0m\u001b[0;34m.\u001b[0m\u001b[0mstep\u001b[0m\u001b[0;34m(\u001b[0m\u001b[0;34m)\u001b[0m\u001b[0;34m\u001b[0m\u001b[0;34m\u001b[0m\u001b[0m\n\u001b[1;32m     84\u001b[0m         \u001b[0msumloss\u001b[0m \u001b[0;34m+=\u001b[0m \u001b[0mloss\u001b[0m\u001b[0;34m.\u001b[0m\u001b[0mdata\u001b[0m\u001b[0;34m\u001b[0m\u001b[0;34m\u001b[0m\u001b[0m\n",
      "\u001b[0;32m/home/data/liuchang/anaconda3/envs/py3/lib/python3.7/site-packages/torch/tensor.py\u001b[0m in \u001b[0;36mbackward\u001b[0;34m(self, gradient, retain_graph, create_graph)\u001b[0m\n\u001b[1;32m    100\u001b[0m                 \u001b[0mproducts\u001b[0m\u001b[0;34m.\u001b[0m \u001b[0mDefaults\u001b[0m \u001b[0mto\u001b[0m\u001b[0;31m \u001b[0m\u001b[0;31m`\u001b[0m\u001b[0;31m`\u001b[0m\u001b[0;32mFalse\u001b[0m\u001b[0;31m`\u001b[0m\u001b[0;31m`\u001b[0m\u001b[0;34m.\u001b[0m\u001b[0;34m\u001b[0m\u001b[0;34m\u001b[0m\u001b[0m\n\u001b[1;32m    101\u001b[0m         \"\"\"\n\u001b[0;32m--> 102\u001b[0;31m         \u001b[0mtorch\u001b[0m\u001b[0;34m.\u001b[0m\u001b[0mautograd\u001b[0m\u001b[0;34m.\u001b[0m\u001b[0mbackward\u001b[0m\u001b[0;34m(\u001b[0m\u001b[0mself\u001b[0m\u001b[0;34m,\u001b[0m \u001b[0mgradient\u001b[0m\u001b[0;34m,\u001b[0m \u001b[0mretain_graph\u001b[0m\u001b[0;34m,\u001b[0m \u001b[0mcreate_graph\u001b[0m\u001b[0;34m)\u001b[0m\u001b[0;34m\u001b[0m\u001b[0;34m\u001b[0m\u001b[0m\n\u001b[0m\u001b[1;32m    103\u001b[0m \u001b[0;34m\u001b[0m\u001b[0m\n\u001b[1;32m    104\u001b[0m     \u001b[0;32mdef\u001b[0m \u001b[0mregister_hook\u001b[0m\u001b[0;34m(\u001b[0m\u001b[0mself\u001b[0m\u001b[0;34m,\u001b[0m \u001b[0mhook\u001b[0m\u001b[0;34m)\u001b[0m\u001b[0;34m:\u001b[0m\u001b[0;34m\u001b[0m\u001b[0;34m\u001b[0m\u001b[0m\n",
      "\u001b[0;32m/home/data/liuchang/anaconda3/envs/py3/lib/python3.7/site-packages/torch/autograd/__init__.py\u001b[0m in \u001b[0;36mbackward\u001b[0;34m(tensors, grad_tensors, retain_graph, create_graph, grad_variables)\u001b[0m\n\u001b[1;32m     88\u001b[0m     Variable._execution_engine.run_backward(\n\u001b[1;32m     89\u001b[0m         \u001b[0mtensors\u001b[0m\u001b[0;34m,\u001b[0m \u001b[0mgrad_tensors\u001b[0m\u001b[0;34m,\u001b[0m \u001b[0mretain_graph\u001b[0m\u001b[0;34m,\u001b[0m \u001b[0mcreate_graph\u001b[0m\u001b[0;34m,\u001b[0m\u001b[0;34m\u001b[0m\u001b[0;34m\u001b[0m\u001b[0m\n\u001b[0;32m---> 90\u001b[0;31m         allow_unreachable=True)  # allow_unreachable flag\n\u001b[0m\u001b[1;32m     91\u001b[0m \u001b[0;34m\u001b[0m\u001b[0m\n\u001b[1;32m     92\u001b[0m \u001b[0;34m\u001b[0m\u001b[0m\n",
      "\u001b[0;31mKeyboardInterrupt\u001b[0m: "
     ]
    }
   ],
   "source": [
    "#!/home/data/liuchang/anaconda3/envs/py3/bin/python\n",
    "# -*- coding:utf-8 -*-\n",
    "import re\n",
    "import numpy as np\n",
    "import pandas as pd\n",
    "from tqdm import tqdm\n",
    "import time\n",
    "import os \n",
    "import warnings\n",
    "warnings.filterwarnings(action='ignore', category=UserWarning, module='gensim')# 忽略警告\n",
    "import logging\n",
    "import os.path\n",
    "import sys\n",
    "import multiprocessing\n",
    "import gensim    \n",
    "import torch\n",
    "from torch.utils.data import *\n",
    "import gc\n",
    "import torch.nn as nn\n",
    "import torch.nn.functional as F\n",
    "import torch.optim as optim\n",
    "import torch.autograd\n",
    "# xlist = np.load('/home/data/liuchang/data/wikiw2v.npy') \n",
    "# ylist = np.load('/home/data/liuchang/data/wikipunc.npy') \n",
    "# del xlist\n",
    "# del ylist\n",
    "# gc.collect()\n",
    "\n",
    "# dataloader\n",
    "batch_size = 1\n",
    "class wikiset(Dataset):\n",
    "    def __init__(self):\n",
    "        print('dataset loading...')\n",
    "        self.xlist = np.load('/home/data/liuchang/data/wikiw2v.npy') \n",
    "        self.ylist = np.load('/home/data/liuchang/data/wikipunc.npy') \n",
    "        \n",
    "    def __len__(self):\n",
    "        return len(self.ylist)\n",
    "    def __getitem__(self,idx):\n",
    "        return torch.FloatTensor(self.xlist[idx]),torch.FloatTensor(self.ylist[idx])\n",
    "\n",
    "teset = wikiset()        \n",
    "seqloader = DataLoader(teset,batch_size=1,shuffle = False ,num_workers = 4)            \n",
    "\n",
    "class TLSTM(nn.Module):\n",
    "    def __init__(self,input_dim,hidden_dim,output_dim):\n",
    "        super(TLSTM,self).__init__()\n",
    "        self.input_dim = input_dim\n",
    "        self.hidden_dim = hidden_dim\n",
    "        self.output_dim = output_dim\n",
    "        \n",
    "        self.lstm = nn.LSTM(input_dim,hidden_dim)\n",
    "        self.fc = nn.Linear(hidden_dim,output_dim)\n",
    "        self.hidden = self.init_hidden()\n",
    "        \n",
    "    def init_hidden(self):\n",
    "        return torch.zeros(1,1,self.hidden_dim),torch.zeros(1,1,self.hidden_dim)\n",
    "\n",
    "    def forward(self,inputs):\n",
    "        lstm_out, self.hidden = self.lstm(inputs.view(len(inputs),1,-1),self.hidden)\n",
    "        tag_space = self.fc(lstm_out.view(len(inputs),-1))\n",
    "        tag_scores = F.softmax(tag_space,dim = 1)\n",
    "        return tag_scores\n",
    "lstm = TLSTM(200,100,6)\n",
    "device = torch.device(\"cuda:0\" if torch.cuda.is_available() else \"cpu\")\n",
    "loss_function = nn.MSELoss()\n",
    "optimizer = optim.Adam(lstm.parameters())\n",
    "# lstm = nn.DataParallel(lstm)\n",
    "lstm.to(device)\n",
    "# idata = iter(seqloader)\n",
    "totalloss = []\n",
    "for epoch in range(0,50):\n",
    "    for batch in range(0,50):\n",
    "        sumloss = 0\n",
    "    #     for i in tqdm(range(0,100)):\n",
    "        for i in range(200*batch,200*(batch+1)):        \n",
    "            x, y = teset[i]\n",
    "            lstm.zero_grad() # 清空梯度\n",
    "            lstm.hidden = lstm.init_hidden() # 清空隐层状态\n",
    "            tag_scores = lstm(x) # 前向计算\n",
    "            loss = loss_function(tag_scores,y.float()) # 计算损失函数\n",
    "            loss.backward()\n",
    "            optimizer.step()\n",
    "        sumloss += loss.data\n",
    "        totalloss.append(sumloss)\n",
    "        torch.save(lstm.state_dict(), 'tlstm.pkl')\n",
    "        print('batch',batch,'epoch',epoch,'total loss in this epoch:',sumloss)    "
   ]
  },
  {
   "cell_type": "code",
   "execution_count": null,
   "metadata": {},
   "outputs": [],
   "source": [
    "print(len(epochlist))"
   ]
  },
  {
   "cell_type": "code",
   "execution_count": null,
   "metadata": {},
   "outputs": [],
   "source": []
  }
 ],
 "metadata": {
  "kernelspec": {
   "display_name": "Python 3",
   "language": "python",
   "name": "python3"
  },
  "language_info": {
   "codemirror_mode": {
    "name": "ipython",
    "version": 3
   },
   "file_extension": ".py",
   "mimetype": "text/x-python",
   "name": "python",
   "nbconvert_exporter": "python",
   "pygments_lexer": "ipython3",
   "version": "3.7.1"
  }
 },
 "nbformat": 4,
 "nbformat_minor": 2
}
